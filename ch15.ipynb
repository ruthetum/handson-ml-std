{
  "nbformat": 4,
  "nbformat_minor": 0,
  "metadata": {
    "colab": {
      "name": "ch15",
      "provenance": [],
      "authorship_tag": "ABX9TyOZN+p9nNGgG6/MYSXQkHo/",
      "include_colab_link": true
    },
    "kernelspec": {
      "name": "python3",
      "display_name": "Python 3"
    },
    "accelerator": "GPU"
  },
  "cells": [
    {
      "cell_type": "markdown",
      "metadata": {
        "id": "view-in-github",
        "colab_type": "text"
      },
      "source": [
        "<a href=\"https://colab.research.google.com/github/ruthetum/handson-ml-std/blob/master/ch15.ipynb\" target=\"_parent\"><img src=\"https://colab.research.google.com/assets/colab-badge.svg\" alt=\"Open In Colab\"/></a>"
      ]
    },
    {
      "cell_type": "markdown",
      "metadata": {
        "id": "otWKomqldLPR"
      },
      "source": [
        "# Chapter15 RNN과 CNN을 사용해 시퀀스 처리하기"
      ]
    },
    {
      "cell_type": "code",
      "metadata": {
        "id": "lRdWLs3Lc6jZ"
      },
      "source": [
        "import tensorflow as tf\n",
        "from tensorflow import keras\n",
        "assert tf.__version__ >= \"2.0\"\n",
        "\n",
        "import numpy as np\n",
        "import os\n",
        "from pathlib import Path\n",
        "\n",
        "%matplotlib inline\n",
        "import matplotlib as mpl\n",
        "import matplotlib.pyplot as plt"
      ],
      "execution_count": 2,
      "outputs": []
    },
    {
      "cell_type": "markdown",
      "metadata": {
        "id": "VwlV7KaZuZtz"
      },
      "source": [
        "### 시계열 생성 함수 (단변량 시계열)\n",
        "\n",
        "batch size 랑 step 길이를 매개변수로 입력\n",
        "\n",
        "[batch_size, n_step, 1] 넘파이 배열로 출력\n",
        "\n"
      ]
    },
    {
      "cell_type": "code",
      "metadata": {
        "id": "4AaU87FTd2-K"
      },
      "source": [
        "def generate_time_series(batch_size, n_steps):\n",
        "    freq1, freq2, offsets1, offsets2 = np.random.rand(4, batch_size, 1)\n",
        "    time = np.linspace(0, 1, n_steps)\n",
        "    series = 0.5 * np.sin((time - offsets1) * (freq1 * 10 + 10)) # sine wave\n",
        "    series += 0.2 * np.sin((time - offsets2) * (freq2 * 20 + 20)) # sine wave\n",
        "    series += 0.1 * (np.random.rand(batch_size, n_steps) - 0.5) # 잡음 추가\n",
        "    return series[..., np.newaxis].astype(np.float32)"
      ],
      "execution_count": 3,
      "outputs": []
    },
    {
      "cell_type": "code",
      "metadata": {
        "id": "4YXJGrQ9wB04",
        "outputId": "5eedf5a0-3eb3-4380-9a70-40f661b9e8ef",
        "colab": {
          "base_uri": "https://localhost:8080/"
        }
      },
      "source": [
        "# 단변량 시계열 생성 확인\n",
        "test = generate_time_series(5, 3)\n",
        "test"
      ],
      "execution_count": 4,
      "outputs": [
        {
          "output_type": "execute_result",
          "data": {
            "text/plain": [
              "array([[[ 0.15254667],\n",
              "        [ 0.14995728],\n",
              "        [ 0.19618355]],\n",
              "\n",
              "       [[ 0.23656414],\n",
              "        [ 0.35126457],\n",
              "        [ 0.28141645]],\n",
              "\n",
              "       [[-0.01466727],\n",
              "        [ 0.35243037],\n",
              "        [-0.28331563]],\n",
              "\n",
              "       [[-0.15250996],\n",
              "        [ 0.497087  ],\n",
              "        [ 0.27007994]],\n",
              "\n",
              "       [[ 0.2533832 ],\n",
              "        [ 0.47112006],\n",
              "        [ 0.19195215]]], dtype=float32)"
            ]
          },
          "metadata": {
            "tags": []
          },
          "execution_count": 4
        }
      ]
    },
    {
      "cell_type": "markdown",
      "metadata": {
        "id": "NPC-b4Udw5Z8"
      },
      "source": [
        "### 훈련, 검증, 테스트 세트 생성"
      ]
    },
    {
      "cell_type": "code",
      "metadata": {
        "id": "VtYcL2GswINh"
      },
      "source": [
        "n_steps = 50\n",
        "series = generate_time_series(10000, n_steps + 1)\n",
        "X_train, y_train = series[:7000, :n_steps], series[:7000, -1]\n",
        "X_valid, y_valid = series[7000:9000, :n_steps], series[7000:9000, -1]\n",
        "X_test, y_test = series[9000:, :n_steps], series[9000:, -1]"
      ],
      "execution_count": 5,
      "outputs": []
    },
    {
      "cell_type": "markdown",
      "metadata": {
        "id": "3hbw5jhU4Bho"
      },
      "source": [
        "### 기준 성능 측정\n",
        "- native forecasting : 시계열 마지막 값을 그대로 예측\n",
        "- 완전 연결 네트워크"
      ]
    },
    {
      "cell_type": "code",
      "metadata": {
        "id": "K_ZmHtDY4Boq",
        "outputId": "af0d3cae-16fe-4ea9-aa32-ca58f1ea46ae",
        "colab": {
          "base_uri": "https://localhost:8080/"
        }
      },
      "source": [
        "# native forecating\n",
        "y_pred = X_valid[:, -1]\n",
        "np.mean(keras.losses.mean_squared_error(y_valid, y_pred))"
      ],
      "execution_count": 6,
      "outputs": [
        {
          "output_type": "execute_result",
          "data": {
            "text/plain": [
              "0.020182354"
            ]
          },
          "metadata": {
            "tags": []
          },
          "execution_count": 6
        }
      ]
    },
    {
      "cell_type": "code",
      "metadata": {
        "id": "mRN0FoAB4KqG"
      },
      "source": [
        "# 완전 연결 네트워크\n",
        "model = keras.models.Sequential([\n",
        "    keras.layers.Flatten(input_shape=[50, 1]),\n",
        "    keras.layers.Dense(1)\n",
        "])"
      ],
      "execution_count": 7,
      "outputs": []
    },
    {
      "cell_type": "code",
      "metadata": {
        "id": "gU8ejRPW5F9q",
        "outputId": "b011ebef-fc0b-48a9-ec6f-1151e966bf31",
        "colab": {
          "base_uri": "https://localhost:8080/"
        }
      },
      "source": [
        "# 측정\n",
        "model.compile(loss=\"mse\", optimizer=\"adam\")\n",
        "history = model.fit(X_train, y_train, epochs=20, validation_data=(X_valid, y_valid))"
      ],
      "execution_count": 8,
      "outputs": [
        {
          "output_type": "stream",
          "text": [
            "Epoch 1/20\n",
            "219/219 [==============================] - 0s 2ms/step - loss: 0.0942 - val_loss: 0.0418\n",
            "Epoch 2/20\n",
            "219/219 [==============================] - 0s 2ms/step - loss: 0.0266 - val_loss: 0.0173\n",
            "Epoch 3/20\n",
            "219/219 [==============================] - 0s 2ms/step - loss: 0.0138 - val_loss: 0.0112\n",
            "Epoch 4/20\n",
            "219/219 [==============================] - 0s 2ms/step - loss: 0.0097 - val_loss: 0.0087\n",
            "Epoch 5/20\n",
            "219/219 [==============================] - 0s 2ms/step - loss: 0.0080 - val_loss: 0.0076\n",
            "Epoch 6/20\n",
            "219/219 [==============================] - 0s 2ms/step - loss: 0.0069 - val_loss: 0.0068\n",
            "Epoch 7/20\n",
            "219/219 [==============================] - 0s 2ms/step - loss: 0.0062 - val_loss: 0.0061\n",
            "Epoch 8/20\n",
            "219/219 [==============================] - 0s 2ms/step - loss: 0.0056 - val_loss: 0.0055\n",
            "Epoch 9/20\n",
            "219/219 [==============================] - 0s 2ms/step - loss: 0.0051 - val_loss: 0.0051\n",
            "Epoch 10/20\n",
            "219/219 [==============================] - 0s 2ms/step - loss: 0.0048 - val_loss: 0.0047\n",
            "Epoch 11/20\n",
            "219/219 [==============================] - 0s 2ms/step - loss: 0.0045 - val_loss: 0.0044\n",
            "Epoch 12/20\n",
            "219/219 [==============================] - 0s 2ms/step - loss: 0.0043 - val_loss: 0.0043\n",
            "Epoch 13/20\n",
            "219/219 [==============================] - 1s 2ms/step - loss: 0.0041 - val_loss: 0.0041\n",
            "Epoch 14/20\n",
            "219/219 [==============================] - 0s 2ms/step - loss: 0.0040 - val_loss: 0.0039\n",
            "Epoch 15/20\n",
            "219/219 [==============================] - 0s 2ms/step - loss: 0.0039 - val_loss: 0.0039\n",
            "Epoch 16/20\n",
            "219/219 [==============================] - 0s 2ms/step - loss: 0.0038 - val_loss: 0.0038\n",
            "Epoch 17/20\n",
            "219/219 [==============================] - 0s 2ms/step - loss: 0.0038 - val_loss: 0.0037\n",
            "Epoch 18/20\n",
            "219/219 [==============================] - 0s 2ms/step - loss: 0.0037 - val_loss: 0.0036\n",
            "Epoch 19/20\n",
            "219/219 [==============================] - 0s 2ms/step - loss: 0.0036 - val_loss: 0.0035\n",
            "Epoch 20/20\n",
            "219/219 [==============================] - 0s 2ms/step - loss: 0.0036 - val_loss: 0.0035\n"
          ],
          "name": "stdout"
        }
      ]
    },
    {
      "cell_type": "code",
      "metadata": {
        "id": "yt-KHsUU5cEx",
        "outputId": "9386132a-f3cd-4111-fbe8-57da46eafe5e",
        "colab": {
          "base_uri": "https://localhost:8080/"
        }
      },
      "source": [
        "model.evaluate(X_valid, y_valid)"
      ],
      "execution_count": 9,
      "outputs": [
        {
          "output_type": "stream",
          "text": [
            "63/63 [==============================] - 0s 1ms/step - loss: 0.0035\n"
          ],
          "name": "stdout"
        },
        {
          "output_type": "execute_result",
          "data": {
            "text/plain": [
              "0.00354241905733943"
            ]
          },
          "metadata": {
            "tags": []
          },
          "execution_count": 9
        }
      ]
    },
    {
      "cell_type": "markdown",
      "metadata": {
        "id": "ywhtcf4T5TTE"
      },
      "source": [
        "### 간단한 RNN 구현"
      ]
    },
    {
      "cell_type": "code",
      "metadata": {
        "id": "xYK5G_v05GrS"
      },
      "source": [
        "# 뉴런 1개\n",
        "model = keras.models.Sequential([\n",
        "    keras.layers.SimpleRNN(1, input_shape=[None, 1])\n",
        "])\n",
        "\n",
        "# step 마다 출력을 반환할려면 return_suquences=True 설정\n",
        "# model = keras.models.Sequential([\n",
        "#     keras.layers.SimpleRNN(1, return_sequences=True, input_shape=[None, 1])\n",
        "# ])"
      ],
      "execution_count": 10,
      "outputs": []
    },
    {
      "cell_type": "code",
      "metadata": {
        "id": "kTye9zTS6fWl",
        "outputId": "a5b154d7-5356-4105-aef1-2365171929cf",
        "colab": {
          "base_uri": "https://localhost:8080/"
        }
      },
      "source": [
        "model.compile(loss=\"mse\", optimizer=\"adam\")\n",
        "history = model.fit(X_train, y_train, epochs=20, validation_data=(X_valid, y_valid))"
      ],
      "execution_count": 11,
      "outputs": [
        {
          "output_type": "stream",
          "text": [
            "Epoch 1/20\n",
            "219/219 [==============================] - 7s 34ms/step - loss: 0.1167 - val_loss: 0.1053\n",
            "Epoch 2/20\n",
            "219/219 [==============================] - 7s 32ms/step - loss: 0.0887 - val_loss: 0.0785\n",
            "Epoch 3/20\n",
            "219/219 [==============================] - 7s 32ms/step - loss: 0.0643 - val_loss: 0.0540\n",
            "Epoch 4/20\n",
            "219/219 [==============================] - 7s 32ms/step - loss: 0.0424 - val_loss: 0.0338\n",
            "Epoch 5/20\n",
            "219/219 [==============================] - 7s 30ms/step - loss: 0.0266 - val_loss: 0.0214\n",
            "Epoch 6/20\n",
            "219/219 [==============================] - 7s 31ms/step - loss: 0.0189 - val_loss: 0.0168\n",
            "Epoch 7/20\n",
            "219/219 [==============================] - 7s 33ms/step - loss: 0.0165 - val_loss: 0.0154\n",
            "Epoch 8/20\n",
            "219/219 [==============================] - 7s 32ms/step - loss: 0.0156 - val_loss: 0.0147\n",
            "Epoch 9/20\n",
            "219/219 [==============================] - 7s 30ms/step - loss: 0.0149 - val_loss: 0.0140\n",
            "Epoch 10/20\n",
            "219/219 [==============================] - 7s 31ms/step - loss: 0.0143 - val_loss: 0.0134\n",
            "Epoch 11/20\n",
            "219/219 [==============================] - 7s 32ms/step - loss: 0.0138 - val_loss: 0.0129\n",
            "Epoch 12/20\n",
            "219/219 [==============================] - 6s 29ms/step - loss: 0.0133 - val_loss: 0.0125\n",
            "Epoch 13/20\n",
            "219/219 [==============================] - 7s 30ms/step - loss: 0.0129 - val_loss: 0.0121\n",
            "Epoch 14/20\n",
            "219/219 [==============================] - 6s 29ms/step - loss: 0.0125 - val_loss: 0.0117\n",
            "Epoch 15/20\n",
            "219/219 [==============================] - 6s 29ms/step - loss: 0.0122 - val_loss: 0.0115\n",
            "Epoch 16/20\n",
            "219/219 [==============================] - 6s 29ms/step - loss: 0.0120 - val_loss: 0.0113\n",
            "Epoch 17/20\n",
            "219/219 [==============================] - 6s 29ms/step - loss: 0.0118 - val_loss: 0.0111\n",
            "Epoch 18/20\n",
            "219/219 [==============================] - 7s 31ms/step - loss: 0.0117 - val_loss: 0.0110\n",
            "Epoch 19/20\n",
            "219/219 [==============================] - 7s 32ms/step - loss: 0.0116 - val_loss: 0.0109\n",
            "Epoch 20/20\n",
            "219/219 [==============================] - 6s 29ms/step - loss: 0.0115 - val_loss: 0.0108\n"
          ],
          "name": "stdout"
        }
      ]
    },
    {
      "cell_type": "code",
      "metadata": {
        "id": "uz_wfTlI6uKQ",
        "outputId": "c7c2a90a-f2a4-490a-c91b-e7592c56f910",
        "colab": {
          "base_uri": "https://localhost:8080/"
        }
      },
      "source": [
        "model.evaluate(X_valid, y_valid)"
      ],
      "execution_count": 12,
      "outputs": [
        {
          "output_type": "stream",
          "text": [
            "63/63 [==============================] - 0s 4ms/step - loss: 0.0108\n"
          ],
          "name": "stdout"
        },
        {
          "output_type": "execute_result",
          "data": {
            "text/plain": [
              "0.010821439325809479"
            ]
          },
          "metadata": {
            "tags": []
          },
          "execution_count": 12
        }
      ]
    },
    {
      "cell_type": "markdown",
      "metadata": {
        "id": "nE6i-4jw7vyv"
      },
      "source": [
        "### 심층 RNN"
      ]
    },
    {
      "cell_type": "code",
      "metadata": {
        "id": "RguqguzE7mo5"
      },
      "source": [
        "model = keras.models.Sequential([\n",
        "    keras.layers.SimpleRNN(20, return_sequences=True, input_shape=[None, 1]),\n",
        "    keras.layers.SimpleRNN(20, return_sequences=True,),\n",
        "    keras.layers.SimpleRNN(1)\n",
        "])"
      ],
      "execution_count": 13,
      "outputs": []
    },
    {
      "cell_type": "code",
      "metadata": {
        "id": "OZDrlT6N8TO7",
        "outputId": "6fb08897-1155-4416-9748-65c9ce1393b2",
        "colab": {
          "base_uri": "https://localhost:8080/"
        }
      },
      "source": [
        "model.compile(loss=\"mse\", optimizer=\"adam\")\n",
        "history = model.fit(X_train, y_train, epochs=20, validation_data=(X_valid, y_valid))"
      ],
      "execution_count": 14,
      "outputs": [
        {
          "output_type": "stream",
          "text": [
            "Epoch 1/20\n",
            "219/219 [==============================] - 20s 90ms/step - loss: 0.0203 - val_loss: 0.0048\n",
            "Epoch 2/20\n",
            "219/219 [==============================] - 19s 87ms/step - loss: 0.0040 - val_loss: 0.0035\n",
            "Epoch 3/20\n",
            "219/219 [==============================] - 19s 87ms/step - loss: 0.0033 - val_loss: 0.0033\n",
            "Epoch 4/20\n",
            "219/219 [==============================] - 19s 87ms/step - loss: 0.0031 - val_loss: 0.0032\n",
            "Epoch 5/20\n",
            "219/219 [==============================] - 19s 87ms/step - loss: 0.0031 - val_loss: 0.0031\n",
            "Epoch 6/20\n",
            "219/219 [==============================] - 19s 87ms/step - loss: 0.0030 - val_loss: 0.0032\n",
            "Epoch 7/20\n",
            "219/219 [==============================] - 20s 90ms/step - loss: 0.0030 - val_loss: 0.0030\n",
            "Epoch 8/20\n",
            "219/219 [==============================] - 20s 89ms/step - loss: 0.0029 - val_loss: 0.0031\n",
            "Epoch 9/20\n",
            "219/219 [==============================] - 19s 88ms/step - loss: 0.0030 - val_loss: 0.0028\n",
            "Epoch 10/20\n",
            "219/219 [==============================] - 20s 92ms/step - loss: 0.0028 - val_loss: 0.0028\n",
            "Epoch 11/20\n",
            "219/219 [==============================] - 19s 89ms/step - loss: 0.0029 - val_loss: 0.0029\n",
            "Epoch 12/20\n",
            "219/219 [==============================] - 20s 90ms/step - loss: 0.0029 - val_loss: 0.0031\n",
            "Epoch 13/20\n",
            "219/219 [==============================] - 20s 91ms/step - loss: 0.0028 - val_loss: 0.0029\n",
            "Epoch 14/20\n",
            "219/219 [==============================] - 19s 87ms/step - loss: 0.0027 - val_loss: 0.0027\n",
            "Epoch 15/20\n",
            "219/219 [==============================] - 19s 85ms/step - loss: 0.0027 - val_loss: 0.0027\n",
            "Epoch 16/20\n",
            "219/219 [==============================] - 20s 90ms/step - loss: 0.0026 - val_loss: 0.0026\n",
            "Epoch 17/20\n",
            "219/219 [==============================] - 19s 88ms/step - loss: 0.0027 - val_loss: 0.0025\n",
            "Epoch 18/20\n",
            "219/219 [==============================] - 20s 92ms/step - loss: 0.0026 - val_loss: 0.0026\n",
            "Epoch 19/20\n",
            "219/219 [==============================] - 20s 89ms/step - loss: 0.0027 - val_loss: 0.0027\n",
            "Epoch 20/20\n",
            "219/219 [==============================] - 19s 86ms/step - loss: 0.0026 - val_loss: 0.0026\n"
          ],
          "name": "stdout"
        }
      ]
    },
    {
      "cell_type": "code",
      "metadata": {
        "id": "ftw9Oxxd8Ttg",
        "outputId": "28cb43b5-c964-4955-8c74-a0167577ac28",
        "colab": {
          "base_uri": "https://localhost:8080/"
        }
      },
      "source": [
        "model.evaluate(X_valid, y_valid)"
      ],
      "execution_count": 15,
      "outputs": [
        {
          "output_type": "stream",
          "text": [
            "63/63 [==============================] - 1s 10ms/step - loss: 0.0026\n"
          ],
          "name": "stdout"
        },
        {
          "output_type": "execute_result",
          "data": {
            "text/plain": [
              "0.0026042431127279997"
            ]
          },
          "metadata": {
            "tags": []
          },
          "execution_count": 15
        }
      ]
    },
    {
      "cell_type": "markdown",
      "metadata": {
        "id": "JKMVgTg_9WmT"
      },
      "source": [
        "### 출력층을 keras.layers.Dense(1)로 변경\n",
        "- 이렇게 하면 출력층의 활성화 함수를 변경 가능\n",
        "- SimpleRNN에서도 활성화 함수를 선택할 수 있지만 잘 동작하지 않음"
      ]
    },
    {
      "cell_type": "code",
      "metadata": {
        "id": "hAca9e8p8Vlo",
        "outputId": "1fff2d03-a35d-4ced-ef93-28f8727d9195",
        "colab": {
          "base_uri": "https://localhost:8080/"
        }
      },
      "source": [
        "model = keras.models.Sequential([\n",
        "    keras.layers.SimpleRNN(20, return_sequences=True, input_shape=[None, 1]),\n",
        "    keras.layers.SimpleRNN(20),\n",
        "    keras.layers.Dense(1)\n",
        "])\n",
        "\n",
        "model.compile(loss=\"mse\", optimizer=\"adam\")\n",
        "history = model.fit(X_train, y_train, epochs=20, validation_data=(X_valid, y_valid))\n",
        "\n",
        "model.evaluate(X_valid, y_valid)"
      ],
      "execution_count": 16,
      "outputs": [
        {
          "output_type": "stream",
          "text": [
            "Epoch 1/20\n",
            "219/219 [==============================] - 14s 62ms/step - loss: 0.0407 - val_loss: 0.0074\n",
            "Epoch 2/20\n",
            "219/219 [==============================] - 14s 62ms/step - loss: 0.0053 - val_loss: 0.0045\n",
            "Epoch 3/20\n",
            "219/219 [==============================] - 13s 58ms/step - loss: 0.0041 - val_loss: 0.0039\n",
            "Epoch 4/20\n",
            "219/219 [==============================] - 13s 60ms/step - loss: 0.0036 - val_loss: 0.0035\n",
            "Epoch 5/20\n",
            "219/219 [==============================] - 14s 64ms/step - loss: 0.0033 - val_loss: 0.0037\n",
            "Epoch 6/20\n",
            "219/219 [==============================] - 13s 60ms/step - loss: 0.0032 - val_loss: 0.0034\n",
            "Epoch 7/20\n",
            "219/219 [==============================] - 14s 63ms/step - loss: 0.0031 - val_loss: 0.0033\n",
            "Epoch 8/20\n",
            "219/219 [==============================] - 13s 62ms/step - loss: 0.0031 - val_loss: 0.0029\n",
            "Epoch 9/20\n",
            "219/219 [==============================] - 13s 60ms/step - loss: 0.0030 - val_loss: 0.0031\n",
            "Epoch 10/20\n",
            "219/219 [==============================] - 14s 63ms/step - loss: 0.0030 - val_loss: 0.0030\n",
            "Epoch 11/20\n",
            "219/219 [==============================] - 14s 63ms/step - loss: 0.0029 - val_loss: 0.0028\n",
            "Epoch 12/20\n",
            "219/219 [==============================] - 13s 61ms/step - loss: 0.0028 - val_loss: 0.0027\n",
            "Epoch 13/20\n",
            "219/219 [==============================] - 13s 61ms/step - loss: 0.0027 - val_loss: 0.0028\n",
            "Epoch 14/20\n",
            "219/219 [==============================] - 13s 61ms/step - loss: 0.0028 - val_loss: 0.0027\n",
            "Epoch 15/20\n",
            "219/219 [==============================] - 13s 61ms/step - loss: 0.0028 - val_loss: 0.0027\n",
            "Epoch 16/20\n",
            "219/219 [==============================] - 13s 60ms/step - loss: 0.0027 - val_loss: 0.0026\n",
            "Epoch 17/20\n",
            "219/219 [==============================] - 14s 62ms/step - loss: 0.0027 - val_loss: 0.0031\n",
            "Epoch 18/20\n",
            "219/219 [==============================] - 13s 61ms/step - loss: 0.0028 - val_loss: 0.0026\n",
            "Epoch 19/20\n",
            "219/219 [==============================] - 13s 61ms/step - loss: 0.0027 - val_loss: 0.0026\n",
            "Epoch 20/20\n",
            "219/219 [==============================] - 14s 62ms/step - loss: 0.0027 - val_loss: 0.0026\n",
            "63/63 [==============================] - 0s 7ms/step - loss: 0.0026\n"
          ],
          "name": "stdout"
        },
        {
          "output_type": "execute_result",
          "data": {
            "text/plain": [
              "0.0026274442207068205"
            ]
          },
          "metadata": {
            "tags": []
          },
          "execution_count": 16
        }
      ]
    },
    {
      "cell_type": "markdown",
      "metadata": {
        "id": "GaOQFijz-_D4"
      },
      "source": [
        "### 여러 타임 스텝 앞 예측"
      ]
    },
    {
      "cell_type": "markdown",
      "metadata": {
        "id": "BC6bGd4BEY_4"
      },
      "source": [
        "방법 1 : 한 스텝에 1개씩 10개 예측\n",
        "- 이미 훈련된 모델을 사용하여 다음 값을 예측\n",
        "- 해당 값을 입력으로 추가 (예측값을 실제 값처럼 사용)"
      ]
    },
    {
      "cell_type": "code",
      "metadata": {
        "id": "1f5SyNBE_CJV"
      },
      "source": [
        "series = generate_time_series(1, n_steps + 10)\n",
        "X_new, Y_new = series[:, :n_steps], series[:, n_steps:]\n",
        "X = X_new\n",
        "for step_ahead in range(10):\n",
        "    y_pred_one = model.predict(X[:, step_ahead:])[:, np.newaxis, :]\n",
        "    X = np.concatenate([X, y_pred_one], axis=1)\n",
        "\n",
        "Y_pred = X[:, n_steps:]"
      ],
      "execution_count": 17,
      "outputs": []
    },
    {
      "cell_type": "markdown",
      "metadata": {
        "id": "PS0H3zJoJ7zT"
      },
      "source": [
        ""
      ]
    },
    {
      "cell_type": "markdown",
      "metadata": {
        "id": "gw_Cx9f9FH0q"
      },
      "source": [
        "방법2 : RNN으로 다음 값 10개를 한 번에 예측"
      ]
    },
    {
      "cell_type": "code",
      "metadata": {
        "id": "P3-wh0xLFyVn"
      },
      "source": [
        "series = generate_time_series(10000, n_steps + 10)\n",
        "X_train, Y_train = series[:7000, :n_steps], series[:7000, -10:, 0]\n",
        "X_valid, Y_valid = series[7000:9000, :n_steps], series[7000:9000, -10:, 0]\n",
        "X_test, Y_test = series[9000:, :n_steps], series[9000:, -10:, 0]"
      ],
      "execution_count": 18,
      "outputs": []
    },
    {
      "cell_type": "code",
      "metadata": {
        "id": "8WJjhZwRDNYh"
      },
      "source": [
        "model = keras.models.Sequential([\n",
        "    keras.layers.SimpleRNN(20, return_sequences=True, input_shape=[None, 1]),\n",
        "    keras.layers.SimpleRNN(20),\n",
        "    keras.layers.Dense(10)\n",
        "])\n",
        "\n",
        "Y_pred = model.predict(X_new)"
      ],
      "execution_count": 19,
      "outputs": []
    },
    {
      "cell_type": "code",
      "metadata": {
        "id": "QqYLoP-sHCk9"
      },
      "source": [
        "Y = np.empty((10000, n_steps, 10))\n",
        "for step_ahead in range(1, 10 + 1):\n",
        "    Y[..., step_ahead - 1] = series[..., step_ahead:step_ahead + n_steps, 0]\n",
        "Y_train = Y[:7000]\n",
        "Y_valid = Y[7000:9000]\n",
        "Y_test = Y[9000:]"
      ],
      "execution_count": 20,
      "outputs": []
    },
    {
      "cell_type": "code",
      "metadata": {
        "id": "rSbW4KOKJFKb"
      },
      "source": [
        "model = keras.models.Sequential([\n",
        "    keras.layers.SimpleRNN(20, return_sequences=True, input_shape=[None, 1]),\n",
        "    keras.layers.SimpleRNN(20, return_sequences=True),\n",
        "    keras.layers.TimeDistributed(keras.layers.Dense(10))\n",
        "])"
      ],
      "execution_count": 21,
      "outputs": []
    },
    {
      "cell_type": "code",
      "metadata": {
        "id": "t2pJIK6AJX5G"
      },
      "source": [
        "def last_time_step_mse(Y_true, Y_pred):\n",
        "    return keras.metrics.mean_squared_error(Y_true[:, -1], Y_pred[:, -1])\n",
        "    \n",
        "optimizer=keras.optimizers.Adam(lr=0.01)"
      ],
      "execution_count": 22,
      "outputs": []
    },
    {
      "cell_type": "code",
      "metadata": {
        "id": "Pflx_dhRJh6U"
      },
      "source": [
        "model.compile(loss=\"mse\", optimizer=optimizer, metrics=[last_time_step_mse])"
      ],
      "execution_count": 23,
      "outputs": []
    },
    {
      "cell_type": "markdown",
      "metadata": {
        "id": "dCvEU-OZQqPD"
      },
      "source": [
        "### Layer Normalization"
      ]
    },
    {
      "cell_type": "code",
      "metadata": {
        "id": "-Ozh_kFwJ_6A"
      },
      "source": [
        "class LNSimpleRNNCell(keras.layers.Layer):\n",
        "    def __init__(self, units, activation=\"tanh\", **kwargs):\n",
        "        super().__init__(**kwargs)\n",
        "        self.state_size = units\n",
        "        self.output_size = units\n",
        "        self.simple_rnn_cell = keras.layers.SimpleRNNCell(units, activation=None)\n",
        "        self.layer_norm = LayerNormalization() # Layer Normalization\n",
        "        self.activation = keras.activations.get(activation)\n",
        "    def call(self, inputs, states):\n",
        "        outputs, new_states = self.simple_rnn_cell(inputs, states)\n",
        "        norm_outputs = self.activation(self.layer_norm(outputs))\n",
        "        return norm_outputs, [norm_outputs]"
      ],
      "execution_count": 29,
      "outputs": []
    },
    {
      "cell_type": "code",
      "metadata": {
        "id": "aUYWmgQZRPRN"
      },
      "source": [
        "from tensorflow.keras.layers import LayerNormalization\n",
        "model = keras.models.Sequential([\n",
        "    keras.layers.RNN(LNSimpleRNNCell(20), return_sequences=True, input_shape=[None, 1]),\n",
        "    keras.layers.RNN(LNSimpleRNNCell(20), return_sequences=True),\n",
        "    keras.layers.TimeDistributed(keras.layers.Dense(10))\n",
        "])"
      ],
      "execution_count": 30,
      "outputs": []
    },
    {
      "cell_type": "markdown",
      "metadata": {
        "id": "ITAslTXiR0VL"
      },
      "source": [
        "### LSTM Cell"
      ]
    },
    {
      "cell_type": "code",
      "metadata": {
        "id": "89hQToQIR5AW"
      },
      "source": [
        "model = keras.models.Sequential([\n",
        "    keras.layers.LSTM(20, return_sequences=True, input_shape=[None, 1]),\n",
        "    keras.layers.LSTM(20, return_sequences=True),\n",
        "    keras.layers.TimeDistributed(keras.layers.Dense(10))\n",
        "])"
      ],
      "execution_count": 31,
      "outputs": []
    },
    {
      "cell_type": "code",
      "metadata": {
        "id": "snFKSQ2ITAm6"
      },
      "source": [
        "# 이렇게 매개변수 형식으로 지정할 수도 있다.\n",
        "# model = keras.models.Sequential([\n",
        "#     keras.layers.RNN(keras.layers.LSTMCell(20), return_sequences=True, input_shape=[None, 1]),\n",
        "#     keras.layers.RNN(keras.layers.LSTMCell(20), return_sequences=True),\n",
        "#     keras.layers.TimeDistributed(keras.layers.Dense(10))\n",
        "# ])"
      ],
      "execution_count": 32,
      "outputs": []
    },
    {
      "cell_type": "markdown",
      "metadata": {
        "id": "ZAexD0hth8Ey"
      },
      "source": [
        "### GRU Cell"
      ]
    },
    {
      "cell_type": "code",
      "metadata": {
        "id": "4iSveM4dh9oH",
        "outputId": "f70003c0-6f34-4d49-fbb6-f9006d9d649c",
        "colab": {
          "base_uri": "https://localhost:8080/"
        }
      },
      "source": [
        "model = keras.models.Sequential([\n",
        "    keras.layers.Conv1D(filters=20, kernel_size=4, strides=2, padding=\"valid\", input_shape=[None, 1]),                             \n",
        "    keras.layers.GRU(20, return_sequences=True, input_shape=[None, 1]),\n",
        "    keras.layers.GRU(20, return_sequences=True),\n",
        "    keras.layers.TimeDistributed(keras.layers.Dense(10))\n",
        "])\n",
        "\n",
        "model.compile(loss=\"mse\", optimizer=\"adam\", metrics=[last_time_step_mse])\n",
        "history = model.fit(X_train, Y_train[:, 3::2], epochs=20, validation_data=(X_valid, Y_valid[:, 3::2]))"
      ],
      "execution_count": 35,
      "outputs": [
        {
          "output_type": "stream",
          "text": [
            "Epoch 1/20\n",
            "219/219 [==============================] - 2s 8ms/step - loss: 0.0682 - last_time_step_mse: 0.0609 - val_loss: 0.0459 - val_last_time_step_mse: 0.0378\n",
            "Epoch 2/20\n",
            "219/219 [==============================] - 1s 6ms/step - loss: 0.0392 - last_time_step_mse: 0.0316 - val_loss: 0.0354 - val_last_time_step_mse: 0.0277\n",
            "Epoch 3/20\n",
            "219/219 [==============================] - 1s 6ms/step - loss: 0.0328 - last_time_step_mse: 0.0241 - val_loss: 0.0303 - val_last_time_step_mse: 0.0210\n",
            "Epoch 4/20\n",
            "219/219 [==============================] - 1s 6ms/step - loss: 0.0286 - last_time_step_mse: 0.0186 - val_loss: 0.0273 - val_last_time_step_mse: 0.0175\n",
            "Epoch 5/20\n",
            "219/219 [==============================] - 1s 6ms/step - loss: 0.0259 - last_time_step_mse: 0.0151 - val_loss: 0.0250 - val_last_time_step_mse: 0.0143\n",
            "Epoch 6/20\n",
            "219/219 [==============================] - 1s 6ms/step - loss: 0.0242 - last_time_step_mse: 0.0132 - val_loss: 0.0236 - val_last_time_step_mse: 0.0125\n",
            "Epoch 7/20\n",
            "219/219 [==============================] - 1s 6ms/step - loss: 0.0231 - last_time_step_mse: 0.0121 - val_loss: 0.0229 - val_last_time_step_mse: 0.0117\n",
            "Epoch 8/20\n",
            "219/219 [==============================] - 1s 6ms/step - loss: 0.0224 - last_time_step_mse: 0.0114 - val_loss: 0.0221 - val_last_time_step_mse: 0.0110\n",
            "Epoch 9/20\n",
            "219/219 [==============================] - 1s 6ms/step - loss: 0.0219 - last_time_step_mse: 0.0110 - val_loss: 0.0218 - val_last_time_step_mse: 0.0107\n",
            "Epoch 10/20\n",
            "219/219 [==============================] - 1s 6ms/step - loss: 0.0216 - last_time_step_mse: 0.0108 - val_loss: 0.0217 - val_last_time_step_mse: 0.0109\n",
            "Epoch 11/20\n",
            "219/219 [==============================] - 1s 6ms/step - loss: 0.0212 - last_time_step_mse: 0.0105 - val_loss: 0.0211 - val_last_time_step_mse: 0.0105\n",
            "Epoch 12/20\n",
            "219/219 [==============================] - 1s 6ms/step - loss: 0.0209 - last_time_step_mse: 0.0102 - val_loss: 0.0208 - val_last_time_step_mse: 0.0101\n",
            "Epoch 13/20\n",
            "219/219 [==============================] - 1s 6ms/step - loss: 0.0207 - last_time_step_mse: 0.0101 - val_loss: 0.0208 - val_last_time_step_mse: 0.0103\n",
            "Epoch 14/20\n",
            "219/219 [==============================] - 1s 6ms/step - loss: 0.0205 - last_time_step_mse: 0.0100 - val_loss: 0.0205 - val_last_time_step_mse: 0.0099\n",
            "Epoch 15/20\n",
            "219/219 [==============================] - 1s 6ms/step - loss: 0.0203 - last_time_step_mse: 0.0099 - val_loss: 0.0201 - val_last_time_step_mse: 0.0095\n",
            "Epoch 16/20\n",
            "219/219 [==============================] - 1s 6ms/step - loss: 0.0201 - last_time_step_mse: 0.0097 - val_loss: 0.0203 - val_last_time_step_mse: 0.0097\n",
            "Epoch 17/20\n",
            "219/219 [==============================] - 1s 6ms/step - loss: 0.0198 - last_time_step_mse: 0.0096 - val_loss: 0.0205 - val_last_time_step_mse: 0.0102\n",
            "Epoch 18/20\n",
            "219/219 [==============================] - 1s 6ms/step - loss: 0.0197 - last_time_step_mse: 0.0094 - val_loss: 0.0199 - val_last_time_step_mse: 0.0096\n",
            "Epoch 19/20\n",
            "219/219 [==============================] - 1s 6ms/step - loss: 0.0194 - last_time_step_mse: 0.0092 - val_loss: 0.0193 - val_last_time_step_mse: 0.0091\n",
            "Epoch 20/20\n",
            "219/219 [==============================] - 1s 6ms/step - loss: 0.0192 - last_time_step_mse: 0.0090 - val_loss: 0.0191 - val_last_time_step_mse: 0.0088\n"
          ],
          "name": "stdout"
        }
      ]
    },
    {
      "cell_type": "markdown",
      "metadata": {
        "id": "eBnh96bBiebl"
      },
      "source": [
        "### WaveNet"
      ]
    },
    {
      "cell_type": "code",
      "metadata": {
        "id": "IqZhuX1sif5x",
        "outputId": "08be2871-0d1a-4f5c-dbed-d5c6be8dcad3",
        "colab": {
          "base_uri": "https://localhost:8080/"
        }
      },
      "source": [
        "model = keras.models.Sequential()\n",
        "model.add(keras.layers.InputLayer(input_shape=[None, 1]))\n",
        "for rate in (1, 2, 4, 8) * 2:\n",
        "    model.add(keras.layers.Conv1D(filters=20, kernel_size=2, padding=\"causal\", activation=\"relu\", dilation_rate=rate))\n",
        "model.add(keras.layers.Conv1D(filters=10, kernel_size=1))\n",
        "model.compile(loss=\"mse\", optimizer=\"adam\", metrics=[last_time_step_mse])\n",
        "history = model.fit(X_train, Y_train, epochs=20,\n",
        "                    validation_data=(X_valid, Y_valid))"
      ],
      "execution_count": 36,
      "outputs": [
        {
          "output_type": "stream",
          "text": [
            "Epoch 1/20\n",
            "219/219 [==============================] - 1s 6ms/step - loss: 0.0661 - last_time_step_mse: 0.0543 - val_loss: 0.0356 - val_last_time_step_mse: 0.0218\n",
            "Epoch 2/20\n",
            "219/219 [==============================] - 1s 5ms/step - loss: 0.0322 - last_time_step_mse: 0.0183 - val_loss: 0.0300 - val_last_time_step_mse: 0.0171\n",
            "Epoch 3/20\n",
            "219/219 [==============================] - 1s 5ms/step - loss: 0.0287 - last_time_step_mse: 0.0156 - val_loss: 0.0276 - val_last_time_step_mse: 0.0155\n",
            "Epoch 4/20\n",
            "219/219 [==============================] - 1s 5ms/step - loss: 0.0266 - last_time_step_mse: 0.0140 - val_loss: 0.0261 - val_last_time_step_mse: 0.0139\n",
            "Epoch 5/20\n",
            "219/219 [==============================] - 1s 5ms/step - loss: 0.0253 - last_time_step_mse: 0.0128 - val_loss: 0.0248 - val_last_time_step_mse: 0.0126\n",
            "Epoch 6/20\n",
            "219/219 [==============================] - 1s 5ms/step - loss: 0.0241 - last_time_step_mse: 0.0118 - val_loss: 0.0239 - val_last_time_step_mse: 0.0121\n",
            "Epoch 7/20\n",
            "219/219 [==============================] - 1s 5ms/step - loss: 0.0234 - last_time_step_mse: 0.0111 - val_loss: 0.0233 - val_last_time_step_mse: 0.0114\n",
            "Epoch 8/20\n",
            "219/219 [==============================] - 1s 5ms/step - loss: 0.0229 - last_time_step_mse: 0.0108 - val_loss: 0.0227 - val_last_time_step_mse: 0.0108\n",
            "Epoch 9/20\n",
            "219/219 [==============================] - 1s 5ms/step - loss: 0.0223 - last_time_step_mse: 0.0102 - val_loss: 0.0220 - val_last_time_step_mse: 0.0099\n",
            "Epoch 10/20\n",
            "219/219 [==============================] - 1s 5ms/step - loss: 0.0220 - last_time_step_mse: 0.0099 - val_loss: 0.0220 - val_last_time_step_mse: 0.0098\n",
            "Epoch 11/20\n",
            "219/219 [==============================] - 1s 5ms/step - loss: 0.0217 - last_time_step_mse: 0.0097 - val_loss: 0.0216 - val_last_time_step_mse: 0.0097\n",
            "Epoch 12/20\n",
            "219/219 [==============================] - 1s 5ms/step - loss: 0.0213 - last_time_step_mse: 0.0094 - val_loss: 0.0214 - val_last_time_step_mse: 0.0095\n",
            "Epoch 13/20\n",
            "219/219 [==============================] - 1s 5ms/step - loss: 0.0209 - last_time_step_mse: 0.0090 - val_loss: 0.0209 - val_last_time_step_mse: 0.0090\n",
            "Epoch 14/20\n",
            "219/219 [==============================] - 1s 5ms/step - loss: 0.0207 - last_time_step_mse: 0.0089 - val_loss: 0.0213 - val_last_time_step_mse: 0.0098\n",
            "Epoch 15/20\n",
            "219/219 [==============================] - 1s 5ms/step - loss: 0.0204 - last_time_step_mse: 0.0088 - val_loss: 0.0207 - val_last_time_step_mse: 0.0088\n",
            "Epoch 16/20\n",
            "219/219 [==============================] - 1s 5ms/step - loss: 0.0201 - last_time_step_mse: 0.0085 - val_loss: 0.0205 - val_last_time_step_mse: 0.0088\n",
            "Epoch 17/20\n",
            "219/219 [==============================] - 1s 5ms/step - loss: 0.0199 - last_time_step_mse: 0.0083 - val_loss: 0.0202 - val_last_time_step_mse: 0.0088\n",
            "Epoch 18/20\n",
            "219/219 [==============================] - 1s 5ms/step - loss: 0.0197 - last_time_step_mse: 0.0081 - val_loss: 0.0200 - val_last_time_step_mse: 0.0082\n",
            "Epoch 19/20\n",
            "219/219 [==============================] - 1s 5ms/step - loss: 0.0195 - last_time_step_mse: 0.0079 - val_loss: 0.0199 - val_last_time_step_mse: 0.0084\n",
            "Epoch 20/20\n",
            "219/219 [==============================] - 1s 5ms/step - loss: 0.0193 - last_time_step_mse: 0.0077 - val_loss: 0.0193 - val_last_time_step_mse: 0.0076\n"
          ],
          "name": "stdout"
        }
      ]
    }
  ]
}